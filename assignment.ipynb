{
  "nbformat": 4,
  "nbformat_minor": 0,
  "metadata": {
    "colab": {
      "name": "assignment.ipynb",
      "provenance": [],
      "collapsed_sections": []
    },
    "kernelspec": {
      "name": "python3",
      "display_name": "Python 3"
    },
    "language_info": {
      "name": "python"
    }
  },
  "cells": [
    {
      "cell_type": "code",
      "metadata": {
        "id": "3k5haJ5iAVHf"
      },
      "source": [
        "import cv2"
      ],
      "execution_count": null,
      "outputs": []
    },
    {
      "cell_type": "code",
      "metadata": {
        "id": "ZTo7DYUTAwLO"
      },
      "source": [
        "import numpy as np"
      ],
      "execution_count": null,
      "outputs": []
    },
    {
      "cell_type": "code",
      "metadata": {
        "id": "mKmVKHeGAZ8q"
      },
      "source": [
        "image = cv2.imread('OpenCV_Assignment_Image.png')"
      ],
      "execution_count": null,
      "outputs": []
    },
    {
      "cell_type": "code",
      "metadata": {
        "id": "FCQ_or3dBOVZ"
      },
      "source": [
        "from google.colab.patches import cv2_imshow"
      ],
      "execution_count": null,
      "outputs": []
    },
    {
      "cell_type": "code",
      "metadata": {
        "id": "okELPW6UD-rR"
      },
      "source": [
        "bilateral_filtered_image = cv2.bilateralFilter(image, 5, 175, 175)"
      ],
      "execution_count": null,
      "outputs": []
    },
    {
      "cell_type": "code",
      "metadata": {
        "id": "w94r1CdVEInO"
      },
      "source": [
        "edge_detected_image = cv2.Canny(bilateral_filtered_image, 75, 200)\n",
        "cv2_imshow(edge_detected_image)\n",
        "cv2.waitKey(0)"
      ],
      "execution_count": null,
      "outputs": []
    },
    {
      "cell_type": "code",
      "metadata": {
        "id": "aqxwzfzPEKm1"
      },
      "source": [
        "contours,_= cv2.findContours(edge_detected_image, cv2.RETR_TREE, cv2.CHAIN_APPROX_SIMPLE)\n"
      ],
      "execution_count": null,
      "outputs": []
    },
    {
      "cell_type": "code",
      "metadata": {
        "id": "sY_PM_4oEYPJ"
      },
      "source": [
        "contour_list = []\n",
        "for contour in contours:\n",
        "    approx = cv2.approxPolyDP(contour,0.01*cv2.arcLength(contour,True),True)\n",
        "    area = cv2.contourArea(contour)\n",
        "    if ((len(approx) > 8) & (area > 30) ):\n",
        "        contour_list.append(contour)"
      ],
      "execution_count": null,
      "outputs": []
    },
    {
      "cell_type": "code",
      "metadata": {
        "colab": {
          "base_uri": "https://localhost:8080/"
        },
        "id": "odjU0uZHBNxC",
        "outputId": "c2a3977f-eb5d-4839-cbff-1efee9c75d12"
      },
      "source": [
        "num_of_woods=len(contour_list)\n",
        "print(num_of_woods)"
      ],
      "execution_count": null,
      "outputs": [
        {
          "output_type": "stream",
          "name": "stdout",
          "text": [
            "48\n"
          ]
        }
      ]
    },
    {
      "cell_type": "code",
      "metadata": {
        "id": "F-cVlJAjFJEq"
      },
      "source": [
        "cv2.drawContours(image, contour_list,  -1, (0,255,0), 2)"
      ],
      "execution_count": null,
      "outputs": []
    },
    {
      "cell_type": "code",
      "metadata": {
        "id": "42GhF6R2FSbW"
      },
      "source": [
        "cv2_imshow(image)\n",
        "cv2.waitKey(0)"
      ],
      "execution_count": null,
      "outputs": []
    },
    {
      "cell_type": "code",
      "metadata": {
        "id": "T8-8qqYpCVCF"
      },
      "source": [
        "rect_cnts = []\n",
        "for cnt in contours:\n",
        "    peri = cv2.arcLength(cnt, True)\n",
        "    approx = cv2.approxPolyDP(cnt, 0.04 * peri, True)\n",
        "    (x, y, w, h) = cv2.boundingRect(cnt)\n",
        "    ar = w / float(h)\n",
        "    if len(approx) == 2: # shape filtering condition\n",
        "        rect_cnts.append(cnt)"
      ],
      "execution_count": null,
      "outputs": []
    },
    {
      "cell_type": "code",
      "metadata": {
        "id": "3lWbuh52C0y9"
      },
      "source": [
        "cv2.drawContours(image, rect_cnts, -1, (255, 0,0), 2)"
      ],
      "execution_count": null,
      "outputs": []
    },
    {
      "cell_type": "code",
      "metadata": {
        "id": "wZWL4Bw3DLep"
      },
      "source": [
        "cv2_imshow(image)\n",
        "cv2.waitKey(0)"
      ],
      "execution_count": null,
      "outputs": []
    },
    {
      "cell_type": "code",
      "metadata": {
        "id": "s7ba95RpJYXy"
      },
      "source": [
        "img_gray = cv2.cvtColor(image, cv2.COLOR_BGR2GRAY)\n",
        "# apply binary thresholding\n",
        "ret, thresh = cv2.threshold(img_gray, 150, 255, cv2.THRESH_BINARY)\n",
        "# visualize the binary image\n",
        "cv2_imshow(thresh)\n",
        "cv2.waitKey(0)\n",
        "cv2.imwrite('image_thres1.jpg', thresh)\n",
        "cv2.destroyAllWindows()\n"
      ],
      "execution_count": null,
      "outputs": []
    }
  ]
}